{
 "cells": [
  {
   "cell_type": "code",
   "execution_count": 18,
   "metadata": {
    "collapsed": true,
    "jupyter": {
     "outputs_hidden": true
    }
   },
   "outputs": [
    {
     "name": "stdout",
     "output_type": "stream",
     "text": [
      "Collecting mysql-connector-python\n",
      "  Downloading mysql_connector_python-8.0.33-cp310-cp310-macosx_12_0_x86_64.whl (8.9 MB)\n",
      "\u001b[2K     \u001b[90m━━━━━━━━━━━━━━━━━━━━━━━━━━━━━━━━━━━━━━━━\u001b[0m \u001b[32m8.9/8.9 MB\u001b[0m \u001b[31m7.6 MB/s\u001b[0m eta \u001b[36m0:00:00\u001b[0m00:01\u001b[0m00:01\u001b[0mm\n",
      "\u001b[?25hRequirement already satisfied: protobuf<=3.20.3,>=3.11.0 in /Library/Frameworks/Python.framework/Versions/3.10/lib/python3.10/site-packages (from mysql-connector-python) (3.20.3)\n",
      "Installing collected packages: mysql-connector-python\n",
      "Successfully installed mysql-connector-python-8.0.33\n",
      "\n",
      "\u001b[1m[\u001b[0m\u001b[34;49mnotice\u001b[0m\u001b[1;39;49m]\u001b[0m\u001b[39;49m A new release of pip is available: \u001b[0m\u001b[31;49m23.0.1\u001b[0m\u001b[39;49m -> \u001b[0m\u001b[32;49m23.1.2\u001b[0m\n",
      "\u001b[1m[\u001b[0m\u001b[34;49mnotice\u001b[0m\u001b[1;39;49m]\u001b[0m\u001b[39;49m To update, run: \u001b[0m\u001b[32;49m/Library/Frameworks/Python.framework/Versions/3.10/bin/python3.10 -m pip install --upgrade pip\u001b[0m\n",
      "Note: you may need to restart the kernel to use updated packages.\n"
     ]
    }
   ],
   "source": [
    "pip install mysql-connector-python\n"
   ]
  },
  {
   "cell_type": "code",
   "execution_count": 19,
   "metadata": {},
   "outputs": [],
   "source": [
    "import mysql.connector\n",
    "import json"
   ]
  },
  {
   "cell_type": "code",
   "execution_count": 29,
   "metadata": {},
   "outputs": [],
   "source": [
    "conn = mysql.connector.connect(\n",
    "    host=\"localhost\",\n",
    "    user=\"root\",\n",
    "    password=\"Falkan07\",\n",
    "    database=\"northwind\"\n",
    ")"
   ]
  },
  {
   "cell_type": "code",
   "execution_count": 30,
   "metadata": {},
   "outputs": [],
   "source": [
    "cursor = conn.cursor()"
   ]
  },
  {
   "cell_type": "code",
   "execution_count": 31,
   "metadata": {},
   "outputs": [],
   "source": [
    "cursor.execute(\"SELECT * FROM customers\")"
   ]
  },
  {
   "cell_type": "code",
   "execution_count": 32,
   "metadata": {},
   "outputs": [],
   "source": [
    "rows = cursor.fetchall()"
   ]
  },
  {
   "cell_type": "code",
   "execution_count": 43,
   "metadata": {},
   "outputs": [],
   "source": [
    "results = []\n",
    "columns = [column[0] for column in cursor.description]\n",
    "for row in rows:\n",
    "    result = dict(zip(columns, [item.decode() if isinstance(item, bytes) else item for item in row]))\n",
    "    results.append(result)"
   ]
  },
  {
   "cell_type": "code",
   "execution_count": 44,
   "metadata": {},
   "outputs": [],
   "source": [
    "northwind_json_data = json.dumps(results)"
   ]
  },
  {
   "cell_type": "code",
   "execution_count": null,
   "metadata": {},
   "outputs": [],
   "source": [
    "####"
   ]
  },
  {
   "cell_type": "code",
   "execution_count": 41,
   "metadata": {},
   "outputs": [],
   "source": [
    "# Define the output file path\n",
    "northwind_json_data = 'output.json'\n",
    "\n",
    "# Save the data as JSON\n",
    "with open(northwind_json_data, 'w') as file:\n",
    "    json.dump(results, file)"
   ]
  },
  {
   "cell_type": "code",
   "execution_count": null,
   "metadata": {},
   "outputs": [],
   "source": [
    "####"
   ]
  },
  {
   "cell_type": "code",
   "execution_count": 45,
   "metadata": {},
   "outputs": [
    {
     "name": "stdout",
     "output_type": "stream",
     "text": [
      "[{\"id\": 1, \"company\": \"Company A\", \"last_name\": \"Bedecs\", \"first_name\": \"Anna\", \"email_address\": null, \"job_title\": \"Owner\", \"business_phone\": \"(123)555-0100\", \"home_phone\": null, \"mobile_phone\": null, \"fax_number\": \"(123)555-0101\", \"address\": \"123 1st Street\", \"city\": \"Seattle\", \"state_province\": \"WA\", \"zip_postal_code\": \"99999\", \"country_region\": \"USA\", \"web_page\": null, \"notes\": null, \"attachments\": \"\"}, {\"id\": 2, \"company\": \"Company B\", \"last_name\": \"Gratacos Solsona\", \"first_name\": \"Antonio\", \"email_address\": null, \"job_title\": \"Owner\", \"business_phone\": \"(123)555-0100\", \"home_phone\": null, \"mobile_phone\": null, \"fax_number\": \"(123)555-0101\", \"address\": \"123 2nd Street\", \"city\": \"Boston\", \"state_province\": \"MA\", \"zip_postal_code\": \"99999\", \"country_region\": \"USA\", \"web_page\": null, \"notes\": null, \"attachments\": \"\"}, {\"id\": 3, \"company\": \"Company C\", \"last_name\": \"Axen\", \"first_name\": \"Thomas\", \"email_address\": null, \"job_title\": \"Purchasing Representative\", \"business_phone\": \"(123)555-0100\", \"home_phone\": null, \"mobile_phone\": null, \"fax_number\": \"(123)555-0101\", \"address\": \"123 3rd Street\", \"city\": \"Los Angelas\", \"state_province\": \"CA\", \"zip_postal_code\": \"99999\", \"country_region\": \"USA\", \"web_page\": null, \"notes\": null, \"attachments\": \"\"}, {\"id\": 4, \"company\": \"Company D\", \"last_name\": \"Lee\", \"first_name\": \"Christina\", \"email_address\": null, \"job_title\": \"Purchasing Manager\", \"business_phone\": \"(123)555-0100\", \"home_phone\": null, \"mobile_phone\": null, \"fax_number\": \"(123)555-0101\", \"address\": \"123 4th Street\", \"city\": \"New York\", \"state_province\": \"NY\", \"zip_postal_code\": \"99999\", \"country_region\": \"USA\", \"web_page\": null, \"notes\": null, \"attachments\": \"\"}, {\"id\": 5, \"company\": \"Company E\", \"last_name\": \"O\\u2019Donnell\", \"first_name\": \"Martin\", \"email_address\": null, \"job_title\": \"Owner\", \"business_phone\": \"(123)555-0100\", \"home_phone\": null, \"mobile_phone\": null, \"fax_number\": \"(123)555-0101\", \"address\": \"123 5th Street\", \"city\": \"Minneapolis\", \"state_province\": \"MN\", \"zip_postal_code\": \"99999\", \"country_region\": \"USA\", \"web_page\": null, \"notes\": null, \"attachments\": \"\"}, {\"id\": 6, \"company\": \"Company F\", \"last_name\": \"P\\u00e9rez-Olaeta\", \"first_name\": \"Francisco\", \"email_address\": null, \"job_title\": \"Purchasing Manager\", \"business_phone\": \"(123)555-0100\", \"home_phone\": null, \"mobile_phone\": null, \"fax_number\": \"(123)555-0101\", \"address\": \"123 6th Street\", \"city\": \"Milwaukee\", \"state_province\": \"WI\", \"zip_postal_code\": \"99999\", \"country_region\": \"USA\", \"web_page\": null, \"notes\": null, \"attachments\": \"\"}, {\"id\": 7, \"company\": \"Company G\", \"last_name\": \"Xie\", \"first_name\": \"Ming-Yang\", \"email_address\": null, \"job_title\": \"Owner\", \"business_phone\": \"(123)555-0100\", \"home_phone\": null, \"mobile_phone\": null, \"fax_number\": \"(123)555-0101\", \"address\": \"123 7th Street\", \"city\": \"Boise\", \"state_province\": \"ID\", \"zip_postal_code\": \"99999\", \"country_region\": \"USA\", \"web_page\": null, \"notes\": null, \"attachments\": \"\"}, {\"id\": 8, \"company\": \"Company H\", \"last_name\": \"Andersen\", \"first_name\": \"Elizabeth\", \"email_address\": null, \"job_title\": \"Purchasing Representative\", \"business_phone\": \"(123)555-0100\", \"home_phone\": null, \"mobile_phone\": null, \"fax_number\": \"(123)555-0101\", \"address\": \"123 8th Street\", \"city\": \"Portland\", \"state_province\": \"OR\", \"zip_postal_code\": \"99999\", \"country_region\": \"USA\", \"web_page\": null, \"notes\": null, \"attachments\": \"\"}, {\"id\": 9, \"company\": \"Company I\", \"last_name\": \"Mortensen\", \"first_name\": \"Sven\", \"email_address\": null, \"job_title\": \"Purchasing Manager\", \"business_phone\": \"(123)555-0100\", \"home_phone\": null, \"mobile_phone\": null, \"fax_number\": \"(123)555-0101\", \"address\": \"123 9th Street\", \"city\": \"Salt Lake City\", \"state_province\": \"UT\", \"zip_postal_code\": \"99999\", \"country_region\": \"USA\", \"web_page\": null, \"notes\": null, \"attachments\": \"\"}, {\"id\": 10, \"company\": \"Company J\", \"last_name\": \"Wacker\", \"first_name\": \"Roland\", \"email_address\": null, \"job_title\": \"Purchasing Manager\", \"business_phone\": \"(123)555-0100\", \"home_phone\": null, \"mobile_phone\": null, \"fax_number\": \"(123)555-0101\", \"address\": \"123 10th Street\", \"city\": \"Chicago\", \"state_province\": \"IL\", \"zip_postal_code\": \"99999\", \"country_region\": \"USA\", \"web_page\": null, \"notes\": null, \"attachments\": \"\"}, {\"id\": 11, \"company\": \"Company K\", \"last_name\": \"Krschne\", \"first_name\": \"Peter\", \"email_address\": null, \"job_title\": \"Purchasing Manager\", \"business_phone\": \"(123)555-0100\", \"home_phone\": null, \"mobile_phone\": null, \"fax_number\": \"(123)555-0101\", \"address\": \"123 11th Street\", \"city\": \"Miami\", \"state_province\": \"FL\", \"zip_postal_code\": \"99999\", \"country_region\": \"USA\", \"web_page\": null, \"notes\": null, \"attachments\": \"\"}, {\"id\": 12, \"company\": \"Company L\", \"last_name\": \"Edwards\", \"first_name\": \"John\", \"email_address\": null, \"job_title\": \"Purchasing Manager\", \"business_phone\": \"(123)555-0100\", \"home_phone\": null, \"mobile_phone\": null, \"fax_number\": \"(123)555-0101\", \"address\": \"123 12th Street\", \"city\": \"Las Vegas\", \"state_province\": \"NV\", \"zip_postal_code\": \"99999\", \"country_region\": \"USA\", \"web_page\": null, \"notes\": null, \"attachments\": \"\"}, {\"id\": 13, \"company\": \"Company M\", \"last_name\": \"Ludick\", \"first_name\": \"Andre\", \"email_address\": null, \"job_title\": \"Purchasing Representative\", \"business_phone\": \"(123)555-0100\", \"home_phone\": null, \"mobile_phone\": null, \"fax_number\": \"(123)555-0101\", \"address\": \"456 13th Street\", \"city\": \"Memphis\", \"state_province\": \"TN\", \"zip_postal_code\": \"99999\", \"country_region\": \"USA\", \"web_page\": null, \"notes\": null, \"attachments\": \"\"}, {\"id\": 14, \"company\": \"Company N\", \"last_name\": \"Grilo\", \"first_name\": \"Carlos\", \"email_address\": null, \"job_title\": \"Purchasing Representative\", \"business_phone\": \"(123)555-0100\", \"home_phone\": null, \"mobile_phone\": null, \"fax_number\": \"(123)555-0101\", \"address\": \"456 14th Street\", \"city\": \"Denver\", \"state_province\": \"CO\", \"zip_postal_code\": \"99999\", \"country_region\": \"USA\", \"web_page\": null, \"notes\": null, \"attachments\": \"\"}, {\"id\": 15, \"company\": \"Company O\", \"last_name\": \"Kupkova\", \"first_name\": \"Helena\", \"email_address\": null, \"job_title\": \"Purchasing Manager\", \"business_phone\": \"(123)555-0100\", \"home_phone\": null, \"mobile_phone\": null, \"fax_number\": \"(123)555-0101\", \"address\": \"456 15th Street\", \"city\": \"Honolulu\", \"state_province\": \"HI\", \"zip_postal_code\": \"99999\", \"country_region\": \"USA\", \"web_page\": null, \"notes\": null, \"attachments\": \"\"}, {\"id\": 16, \"company\": \"Company P\", \"last_name\": \"Goldschmidt\", \"first_name\": \"Daniel\", \"email_address\": null, \"job_title\": \"Purchasing Representative\", \"business_phone\": \"(123)555-0100\", \"home_phone\": null, \"mobile_phone\": null, \"fax_number\": \"(123)555-0101\", \"address\": \"456 16th Street\", \"city\": \"San Francisco\", \"state_province\": \"CA\", \"zip_postal_code\": \"99999\", \"country_region\": \"USA\", \"web_page\": null, \"notes\": null, \"attachments\": \"\"}, {\"id\": 17, \"company\": \"Company Q\", \"last_name\": \"Bagel\", \"first_name\": \"Jean Philippe\", \"email_address\": null, \"job_title\": \"Owner\", \"business_phone\": \"(123)555-0100\", \"home_phone\": null, \"mobile_phone\": null, \"fax_number\": \"(123)555-0101\", \"address\": \"456 17th Street\", \"city\": \"Seattle\", \"state_province\": \"WA\", \"zip_postal_code\": \"99999\", \"country_region\": \"USA\", \"web_page\": null, \"notes\": null, \"attachments\": \"\"}, {\"id\": 18, \"company\": \"Company R\", \"last_name\": \"Autier Miconi\", \"first_name\": \"Catherine\", \"email_address\": null, \"job_title\": \"Purchasing Representative\", \"business_phone\": \"(123)555-0100\", \"home_phone\": null, \"mobile_phone\": null, \"fax_number\": \"(123)555-0101\", \"address\": \"456 18th Street\", \"city\": \"Boston\", \"state_province\": \"MA\", \"zip_postal_code\": \"99999\", \"country_region\": \"USA\", \"web_page\": null, \"notes\": null, \"attachments\": \"\"}, {\"id\": 19, \"company\": \"Company S\", \"last_name\": \"Eggerer\", \"first_name\": \"Alexander\", \"email_address\": null, \"job_title\": \"Accounting Assistant\", \"business_phone\": \"(123)555-0100\", \"home_phone\": null, \"mobile_phone\": null, \"fax_number\": \"(123)555-0101\", \"address\": \"789 19th Street\", \"city\": \"Los Angelas\", \"state_province\": \"CA\", \"zip_postal_code\": \"99999\", \"country_region\": \"USA\", \"web_page\": null, \"notes\": null, \"attachments\": \"\"}, {\"id\": 20, \"company\": \"Company T\", \"last_name\": \"Li\", \"first_name\": \"George\", \"email_address\": null, \"job_title\": \"Purchasing Manager\", \"business_phone\": \"(123)555-0100\", \"home_phone\": null, \"mobile_phone\": null, \"fax_number\": \"(123)555-0101\", \"address\": \"789 20th Street\", \"city\": \"New York\", \"state_province\": \"NY\", \"zip_postal_code\": \"99999\", \"country_region\": \"USA\", \"web_page\": null, \"notes\": null, \"attachments\": \"\"}, {\"id\": 21, \"company\": \"Company U\", \"last_name\": \"Tham\", \"first_name\": \"Bernard\", \"email_address\": null, \"job_title\": \"Accounting Manager\", \"business_phone\": \"(123)555-0100\", \"home_phone\": null, \"mobile_phone\": null, \"fax_number\": \"(123)555-0101\", \"address\": \"789 21th Street\", \"city\": \"Minneapolis\", \"state_province\": \"MN\", \"zip_postal_code\": \"99999\", \"country_region\": \"USA\", \"web_page\": null, \"notes\": null, \"attachments\": \"\"}, {\"id\": 22, \"company\": \"Company V\", \"last_name\": \"Ramos\", \"first_name\": \"Luciana\", \"email_address\": null, \"job_title\": \"Purchasing Assistant\", \"business_phone\": \"(123)555-0100\", \"home_phone\": null, \"mobile_phone\": null, \"fax_number\": \"(123)555-0101\", \"address\": \"789 22th Street\", \"city\": \"Milwaukee\", \"state_province\": \"WI\", \"zip_postal_code\": \"99999\", \"country_region\": \"USA\", \"web_page\": null, \"notes\": null, \"attachments\": \"\"}, {\"id\": 23, \"company\": \"Company W\", \"last_name\": \"Entin\", \"first_name\": \"Michael\", \"email_address\": null, \"job_title\": \"Purchasing Manager\", \"business_phone\": \"(123)555-0100\", \"home_phone\": null, \"mobile_phone\": null, \"fax_number\": \"(123)555-0101\", \"address\": \"789 23th Street\", \"city\": \"Portland\", \"state_province\": \"OR\", \"zip_postal_code\": \"99999\", \"country_region\": \"USA\", \"web_page\": null, \"notes\": null, \"attachments\": \"\"}, {\"id\": 24, \"company\": \"Company X\", \"last_name\": \"Hasselberg\", \"first_name\": \"Jonas\", \"email_address\": null, \"job_title\": \"Owner\", \"business_phone\": \"(123)555-0100\", \"home_phone\": null, \"mobile_phone\": null, \"fax_number\": \"(123)555-0101\", \"address\": \"789 24th Street\", \"city\": \"Salt Lake City\", \"state_province\": \"UT\", \"zip_postal_code\": \"99999\", \"country_region\": \"USA\", \"web_page\": null, \"notes\": null, \"attachments\": \"\"}, {\"id\": 25, \"company\": \"Company Y\", \"last_name\": \"Rodman\", \"first_name\": \"John\", \"email_address\": null, \"job_title\": \"Purchasing Manager\", \"business_phone\": \"(123)555-0100\", \"home_phone\": null, \"mobile_phone\": null, \"fax_number\": \"(123)555-0101\", \"address\": \"789 25th Street\", \"city\": \"Chicago\", \"state_province\": \"IL\", \"zip_postal_code\": \"99999\", \"country_region\": \"USA\", \"web_page\": null, \"notes\": null, \"attachments\": \"\"}, {\"id\": 26, \"company\": \"Company Z\", \"last_name\": \"Liu\", \"first_name\": \"Run\", \"email_address\": null, \"job_title\": \"Accounting Assistant\", \"business_phone\": \"(123)555-0100\", \"home_phone\": null, \"mobile_phone\": null, \"fax_number\": \"(123)555-0101\", \"address\": \"789 26th Street\", \"city\": \"Miami\", \"state_province\": \"FL\", \"zip_postal_code\": \"99999\", \"country_region\": \"USA\", \"web_page\": null, \"notes\": null, \"attachments\": \"\"}, {\"id\": 27, \"company\": \"Company AA\", \"last_name\": \"Toh\", \"first_name\": \"Karen\", \"email_address\": null, \"job_title\": \"Purchasing Manager\", \"business_phone\": \"(123)555-0100\", \"home_phone\": null, \"mobile_phone\": null, \"fax_number\": \"(123)555-0101\", \"address\": \"789 27th Street\", \"city\": \"Las Vegas\", \"state_province\": \"NV\", \"zip_postal_code\": \"99999\", \"country_region\": \"USA\", \"web_page\": null, \"notes\": null, \"attachments\": \"\"}, {\"id\": 28, \"company\": \"Company BB\", \"last_name\": \"Raghav\", \"first_name\": \"Amritansh\", \"email_address\": null, \"job_title\": \"Purchasing Manager\", \"business_phone\": \"(123)555-0100\", \"home_phone\": null, \"mobile_phone\": null, \"fax_number\": \"(123)555-0101\", \"address\": \"789 28th Street\", \"city\": \"Memphis\", \"state_province\": \"TN\", \"zip_postal_code\": \"99999\", \"country_region\": \"USA\", \"web_page\": null, \"notes\": null, \"attachments\": \"\"}, {\"id\": 29, \"company\": \"Company CC\", \"last_name\": \"Lee\", \"first_name\": \"Soo Jung\", \"email_address\": null, \"job_title\": \"Purchasing Manager\", \"business_phone\": \"(123)555-0100\", \"home_phone\": null, \"mobile_phone\": null, \"fax_number\": \"(123)555-0101\", \"address\": \"789 29th Street\", \"city\": \"Denver\", \"state_province\": \"CO\", \"zip_postal_code\": \"99999\", \"country_region\": \"USA\", \"web_page\": null, \"notes\": null, \"attachments\": \"\"}]\n"
     ]
    }
   ],
   "source": [
    "print(northwind_json_data)"
   ]
  },
  {
   "cell_type": "code",
   "execution_count": null,
   "metadata": {},
   "outputs": [],
   "source": [
    "cursor.close()\n",
    "conn.close()"
   ]
  },
  {
   "cell_type": "code",
   "execution_count": null,
   "metadata": {},
   "outputs": [],
   "source": []
  },
  {
   "cell_type": "code",
   "execution_count": null,
   "metadata": {},
   "outputs": [],
   "source": []
  },
  {
   "cell_type": "code",
   "execution_count": null,
   "metadata": {},
   "outputs": [],
   "source": []
  }
 ],
 "metadata": {
  "kernelspec": {
   "display_name": "Python 3 (ipykernel)",
   "language": "python",
   "name": "python3"
  },
  "language_info": {
   "codemirror_mode": {
    "name": "ipython",
    "version": 3
   },
   "file_extension": ".py",
   "mimetype": "text/x-python",
   "name": "python",
   "nbconvert_exporter": "python",
   "pygments_lexer": "ipython3",
   "version": "3.10.9"
  }
 },
 "nbformat": 4,
 "nbformat_minor": 4
}
